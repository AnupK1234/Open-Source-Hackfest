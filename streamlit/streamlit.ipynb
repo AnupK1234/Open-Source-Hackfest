{
 "cells": [
  {
   "cell_type": "code",
   "execution_count": 4,
   "metadata": {},
   "outputs": [],
   "source": [
    "skillMapper = ['C/C++', 'CSS', 'Cloud Computing', 'Data Mining', 'Data Science', 'Deep Learning ', 'Google Drive', 'HTML', 'Java', 'Java Script', 'MS Office', 'MY SQL', 'Machine Learning', 'Open Source', 'Oracle', 'PHP', 'Python', 'SQL', 'Spreadsheets', 'Word Press']\n",
    "expertiseMapper = ['App Developer', 'Asset Management', 'Customer Relations', 'Customer Service', 'Data Analyst', 'Data Scientist', 'Frontend Developer', 'Human Resources', 'ML engineer', 'Quality Assurance', 'Research and Development', 'Sales and Marketing', 'Tech Support', 'Test Engineer', 'Web Developer']"
   ]
  },
  {
   "cell_type": "code",
   "execution_count": 6,
   "metadata": {},
   "outputs": [],
   "source": [
    "from joblib import load\n",
    "\n",
    "model = load('model.joblib')"
   ]
  },
  {
   "cell_type": "code",
   "execution_count": 8,
   "metadata": {},
   "outputs": [],
   "source": [
    "def predict(expertise, skill1, skill2, skill3):\n",
    "    import pandas as pd\n",
    "    test_data = [expertise, skill1, skill2, skill3]\n",
    "    test_data = pd.DataFrame(test_data)\n",
    "    test_data_t = test_data.transpose()\n",
    "    return model.predict(test_data_t)[0]"
   ]
  },
  {
   "cell_type": "code",
   "execution_count": 10,
   "metadata": {},
   "outputs": [],
   "source": [
    "import streamlit as st\n"
   ]
  }
 ],
 "metadata": {
  "kernelspec": {
   "display_name": "venv",
   "language": "python",
   "name": "python3"
  },
  "language_info": {
   "codemirror_mode": {
    "name": "ipython",
    "version": 3
   },
   "file_extension": ".py",
   "mimetype": "text/x-python",
   "name": "python",
   "nbconvert_exporter": "python",
   "pygments_lexer": "ipython3",
   "version": "3.10.4"
  },
  "orig_nbformat": 4
 },
 "nbformat": 4,
 "nbformat_minor": 2
}
